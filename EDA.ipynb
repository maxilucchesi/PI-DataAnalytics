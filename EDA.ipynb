{
 "cells": [
  {
   "cell_type": "markdown",
   "metadata": {},
   "source": [
    "# Librerías"
   ]
  },
  {
   "cell_type": "code",
   "execution_count": 82,
   "metadata": {},
   "outputs": [],
   "source": [
    "import pandas as pd\n",
    "import numpy as np\n",
    "import seaborn as sns\n",
    "import matplotlib.pyplot as plt"
   ]
  },
  {
   "cell_type": "markdown",
   "metadata": {},
   "source": [
    "# EDA"
   ]
  },
  {
   "cell_type": "markdown",
   "metadata": {},
   "source": [
    "## Archivo: homicidios.xlsx"
   ]
  },
  {
   "cell_type": "markdown",
   "metadata": {},
   "source": [
    "### Carga del Dataset"
   ]
  },
  {
   "cell_type": "code",
   "execution_count": null,
   "metadata": {},
   "outputs": [],
   "source": [
    "# Cargar el dataset\n",
    "homicidios = pd.read_excel('files/homicidios.xlsx', sheet_name=None)\n",
    "\n",
    "# Mostrar los nombres de las hojas\n",
    "print(\"Hojas en el archivo de homicidios:\", homicidios.keys())\n"
   ]
  },
  {
   "cell_type": "markdown",
   "metadata": {},
   "source": [
    "### Hoja: HECHOS"
   ]
  },
  {
   "cell_type": "markdown",
   "metadata": {},
   "source": [
    "#### Dimensiones y Tipos de Datos"
   ]
  },
  {
   "cell_type": "code",
   "execution_count": 5,
   "metadata": {},
   "outputs": [
    {
     "data": {
      "text/html": [
       "<div>\n",
       "<style scoped>\n",
       "    .dataframe tbody tr th:only-of-type {\n",
       "        vertical-align: middle;\n",
       "    }\n",
       "\n",
       "    .dataframe tbody tr th {\n",
       "        vertical-align: top;\n",
       "    }\n",
       "\n",
       "    .dataframe thead th {\n",
       "        text-align: right;\n",
       "    }\n",
       "</style>\n",
       "<table border=\"1\" class=\"dataframe\">\n",
       "  <thead>\n",
       "    <tr style=\"text-align: right;\">\n",
       "      <th></th>\n",
       "      <th>Filas</th>\n",
       "      <th>Columnas</th>\n",
       "    </tr>\n",
       "  </thead>\n",
       "  <tbody>\n",
       "    <tr>\n",
       "      <th>0</th>\n",
       "      <td>696</td>\n",
       "      <td>21</td>\n",
       "    </tr>\n",
       "  </tbody>\n",
       "</table>\n",
       "</div>"
      ],
      "text/plain": [
       "   Filas  Columnas\n",
       "0    696        21"
      ]
     },
     "metadata": {},
     "output_type": "display_data"
    },
    {
     "data": {
      "text/html": [
       "<div>\n",
       "<style scoped>\n",
       "    .dataframe tbody tr th:only-of-type {\n",
       "        vertical-align: middle;\n",
       "    }\n",
       "\n",
       "    .dataframe tbody tr th {\n",
       "        vertical-align: top;\n",
       "    }\n",
       "\n",
       "    .dataframe thead th {\n",
       "        text-align: right;\n",
       "    }\n",
       "</style>\n",
       "<table border=\"1\" class=\"dataframe\">\n",
       "  <thead>\n",
       "    <tr style=\"text-align: right;\">\n",
       "      <th></th>\n",
       "      <th>Tipo de Dato</th>\n",
       "    </tr>\n",
       "  </thead>\n",
       "  <tbody>\n",
       "    <tr>\n",
       "      <th>ID</th>\n",
       "      <td>object</td>\n",
       "    </tr>\n",
       "    <tr>\n",
       "      <th>N_VICTIMAS</th>\n",
       "      <td>int64</td>\n",
       "    </tr>\n",
       "    <tr>\n",
       "      <th>FECHA</th>\n",
       "      <td>datetime64[ns]</td>\n",
       "    </tr>\n",
       "    <tr>\n",
       "      <th>AAAA</th>\n",
       "      <td>int64</td>\n",
       "    </tr>\n",
       "    <tr>\n",
       "      <th>MM</th>\n",
       "      <td>int64</td>\n",
       "    </tr>\n",
       "    <tr>\n",
       "      <th>DD</th>\n",
       "      <td>int64</td>\n",
       "    </tr>\n",
       "    <tr>\n",
       "      <th>HORA</th>\n",
       "      <td>object</td>\n",
       "    </tr>\n",
       "    <tr>\n",
       "      <th>HH</th>\n",
       "      <td>object</td>\n",
       "    </tr>\n",
       "    <tr>\n",
       "      <th>LUGAR_DEL_HECHO</th>\n",
       "      <td>object</td>\n",
       "    </tr>\n",
       "    <tr>\n",
       "      <th>TIPO_DE_CALLE</th>\n",
       "      <td>object</td>\n",
       "    </tr>\n",
       "    <tr>\n",
       "      <th>Calle</th>\n",
       "      <td>object</td>\n",
       "    </tr>\n",
       "    <tr>\n",
       "      <th>Altura</th>\n",
       "      <td>float64</td>\n",
       "    </tr>\n",
       "    <tr>\n",
       "      <th>Cruce</th>\n",
       "      <td>object</td>\n",
       "    </tr>\n",
       "    <tr>\n",
       "      <th>Dirección Normalizada</th>\n",
       "      <td>object</td>\n",
       "    </tr>\n",
       "    <tr>\n",
       "      <th>COMUNA</th>\n",
       "      <td>int64</td>\n",
       "    </tr>\n",
       "    <tr>\n",
       "      <th>XY (CABA)</th>\n",
       "      <td>object</td>\n",
       "    </tr>\n",
       "    <tr>\n",
       "      <th>pos x</th>\n",
       "      <td>object</td>\n",
       "    </tr>\n",
       "    <tr>\n",
       "      <th>pos y</th>\n",
       "      <td>object</td>\n",
       "    </tr>\n",
       "    <tr>\n",
       "      <th>PARTICIPANTES</th>\n",
       "      <td>object</td>\n",
       "    </tr>\n",
       "    <tr>\n",
       "      <th>VICTIMA</th>\n",
       "      <td>object</td>\n",
       "    </tr>\n",
       "    <tr>\n",
       "      <th>ACUSADO</th>\n",
       "      <td>object</td>\n",
       "    </tr>\n",
       "  </tbody>\n",
       "</table>\n",
       "</div>"
      ],
      "text/plain": [
       "                         Tipo de Dato\n",
       "ID                             object\n",
       "N_VICTIMAS                      int64\n",
       "FECHA                  datetime64[ns]\n",
       "AAAA                            int64\n",
       "MM                              int64\n",
       "DD                              int64\n",
       "HORA                           object\n",
       "HH                             object\n",
       "LUGAR_DEL_HECHO                object\n",
       "TIPO_DE_CALLE                  object\n",
       "Calle                          object\n",
       "Altura                        float64\n",
       "Cruce                          object\n",
       "Dirección Normalizada          object\n",
       "COMUNA                          int64\n",
       "XY (CABA)                      object\n",
       "pos x                          object\n",
       "pos y                          object\n",
       "PARTICIPANTES                  object\n",
       "VICTIMA                        object\n",
       "ACUSADO                        object"
      ]
     },
     "metadata": {},
     "output_type": "display_data"
    }
   ],
   "source": [
    "# Dimensiones y tipos de datos\n",
    "homicidios_hechos = homicidios['HECHOS']\n",
    "dimensiones_hechos = pd.DataFrame({\n",
    "    'Filas': [homicidios_hechos.shape[0]],\n",
    "    'Columnas': [homicidios_hechos.shape[1]]\n",
    "})\n",
    "tipos_hechos = pd.DataFrame(homicidios_hechos.dtypes, columns=['Tipo de Dato'])\n",
    "\n",
    "display(dimensiones_hechos)\n",
    "display(tipos_hechos)"
   ]
  },
  {
   "cell_type": "markdown",
   "metadata": {},
   "source": [
    "#### Valores Faltantes"
   ]
  },
  {
   "cell_type": "code",
   "execution_count": 7,
   "metadata": {},
   "outputs": [
    {
     "data": {
      "text/html": [
       "<div>\n",
       "<style scoped>\n",
       "    .dataframe tbody tr th:only-of-type {\n",
       "        vertical-align: middle;\n",
       "    }\n",
       "\n",
       "    .dataframe tbody tr th {\n",
       "        vertical-align: top;\n",
       "    }\n",
       "\n",
       "    .dataframe thead th {\n",
       "        text-align: right;\n",
       "    }\n",
       "</style>\n",
       "<table border=\"1\" class=\"dataframe\">\n",
       "  <thead>\n",
       "    <tr style=\"text-align: right;\">\n",
       "      <th></th>\n",
       "      <th>Valores Faltantes</th>\n",
       "    </tr>\n",
       "  </thead>\n",
       "  <tbody>\n",
       "    <tr>\n",
       "      <th>ID</th>\n",
       "      <td>0</td>\n",
       "    </tr>\n",
       "    <tr>\n",
       "      <th>N_VICTIMAS</th>\n",
       "      <td>0</td>\n",
       "    </tr>\n",
       "    <tr>\n",
       "      <th>FECHA</th>\n",
       "      <td>0</td>\n",
       "    </tr>\n",
       "    <tr>\n",
       "      <th>AAAA</th>\n",
       "      <td>0</td>\n",
       "    </tr>\n",
       "    <tr>\n",
       "      <th>MM</th>\n",
       "      <td>0</td>\n",
       "    </tr>\n",
       "    <tr>\n",
       "      <th>DD</th>\n",
       "      <td>0</td>\n",
       "    </tr>\n",
       "    <tr>\n",
       "      <th>HORA</th>\n",
       "      <td>0</td>\n",
       "    </tr>\n",
       "    <tr>\n",
       "      <th>HH</th>\n",
       "      <td>0</td>\n",
       "    </tr>\n",
       "    <tr>\n",
       "      <th>LUGAR_DEL_HECHO</th>\n",
       "      <td>0</td>\n",
       "    </tr>\n",
       "    <tr>\n",
       "      <th>TIPO_DE_CALLE</th>\n",
       "      <td>0</td>\n",
       "    </tr>\n",
       "    <tr>\n",
       "      <th>Calle</th>\n",
       "      <td>1</td>\n",
       "    </tr>\n",
       "    <tr>\n",
       "      <th>Altura</th>\n",
       "      <td>567</td>\n",
       "    </tr>\n",
       "    <tr>\n",
       "      <th>Cruce</th>\n",
       "      <td>171</td>\n",
       "    </tr>\n",
       "    <tr>\n",
       "      <th>Dirección Normalizada</th>\n",
       "      <td>8</td>\n",
       "    </tr>\n",
       "    <tr>\n",
       "      <th>COMUNA</th>\n",
       "      <td>0</td>\n",
       "    </tr>\n",
       "    <tr>\n",
       "      <th>XY (CABA)</th>\n",
       "      <td>0</td>\n",
       "    </tr>\n",
       "    <tr>\n",
       "      <th>pos x</th>\n",
       "      <td>0</td>\n",
       "    </tr>\n",
       "    <tr>\n",
       "      <th>pos y</th>\n",
       "      <td>0</td>\n",
       "    </tr>\n",
       "    <tr>\n",
       "      <th>PARTICIPANTES</th>\n",
       "      <td>0</td>\n",
       "    </tr>\n",
       "    <tr>\n",
       "      <th>VICTIMA</th>\n",
       "      <td>0</td>\n",
       "    </tr>\n",
       "    <tr>\n",
       "      <th>ACUSADO</th>\n",
       "      <td>0</td>\n",
       "    </tr>\n",
       "  </tbody>\n",
       "</table>\n",
       "</div>"
      ],
      "text/plain": [
       "                       Valores Faltantes\n",
       "ID                                     0\n",
       "N_VICTIMAS                             0\n",
       "FECHA                                  0\n",
       "AAAA                                   0\n",
       "MM                                     0\n",
       "DD                                     0\n",
       "HORA                                   0\n",
       "HH                                     0\n",
       "LUGAR_DEL_HECHO                        0\n",
       "TIPO_DE_CALLE                          0\n",
       "Calle                                  1\n",
       "Altura                               567\n",
       "Cruce                                171\n",
       "Dirección Normalizada                  8\n",
       "COMUNA                                 0\n",
       "XY (CABA)                              0\n",
       "pos x                                  0\n",
       "pos y                                  0\n",
       "PARTICIPANTES                          0\n",
       "VICTIMA                                0\n",
       "ACUSADO                                0"
      ]
     },
     "execution_count": 7,
     "metadata": {},
     "output_type": "execute_result"
    }
   ],
   "source": [
    "# Valores faltantes\n",
    "valores_faltantes_hechos = pd.DataFrame(homicidios_hechos.isnull().sum(), columns=['Valores Faltantes'])\n",
    "valores_faltantes_hechos"
   ]
  },
  {
   "cell_type": "markdown",
   "metadata": {},
   "source": [
    "Análisis de los valores faltantes: \n",
    "\n",
    "- Calle: Solo hay un valor faltante. Probablemente sea insignificante y no afecta el análisis general.\n",
    "\n",
    "- Altura: Hay 567 valores faltantes, lo cual representa un 81% aproximandamente de todos los registros.\n",
    "\n",
    "- Cruce: Hay 171 valores faltantes, lo cual indica que en el 30% de los casos, no se registró un cruce.\n",
    "\n",
    "- Dirección Normalizada: Hay 8 valores faltantes, lo cual es relativamente bajo y podría ser manejable.\n",
    "\n",
    "Acciones a tomar:\n",
    "\n"
   ]
  },
  {
   "cell_type": "markdown",
   "metadata": {},
   "source": [
    "1. Calle: reemplazar el valor por 'desconocido'"
   ]
  },
  {
   "cell_type": "code",
   "execution_count": 8,
   "metadata": {},
   "outputs": [],
   "source": [
    "# 1. Reemplazar valores faltantes en 'Calle'\n",
    "homicidios_hechos['Calle'].fillna('Desconocido', inplace=True)\n"
   ]
  },
  {
   "cell_type": "markdown",
   "metadata": {},
   "source": [
    "2. Altura: Analizar si tiene un patrón relacionado con el cruce.\n",
    "\n",
    "3. Cruce: Analizar si  tiene un patrón relacionado con la altura."
   ]
  },
  {
   "cell_type": "code",
   "execution_count": 9,
   "metadata": {},
   "outputs": [
    {
     "data": {
      "text/html": [
       "<div>\n",
       "<style scoped>\n",
       "    .dataframe tbody tr th:only-of-type {\n",
       "        vertical-align: middle;\n",
       "    }\n",
       "\n",
       "    .dataframe tbody tr th {\n",
       "        vertical-align: top;\n",
       "    }\n",
       "\n",
       "    .dataframe thead th {\n",
       "        text-align: right;\n",
       "    }\n",
       "</style>\n",
       "<table border=\"1\" class=\"dataframe\">\n",
       "  <thead>\n",
       "    <tr style=\"text-align: right;\">\n",
       "      <th></th>\n",
       "      <th>Altura sin Cruce</th>\n",
       "      <th>Cruce sin Altura</th>\n",
       "    </tr>\n",
       "  </thead>\n",
       "  <tbody>\n",
       "    <tr>\n",
       "      <th>0</th>\n",
       "      <td>525</td>\n",
       "      <td>129</td>\n",
       "    </tr>\n",
       "  </tbody>\n",
       "</table>\n",
       "</div>"
      ],
      "text/plain": [
       "   Altura sin Cruce  Cruce sin Altura\n",
       "0               525               129"
      ]
     },
     "execution_count": 9,
     "metadata": {},
     "output_type": "execute_result"
    }
   ],
   "source": [
    "# Análisis de patrones en los datos faltantes\n",
    "faltantes_altura = homicidios_hechos[homicidios_hechos['Altura'].isnull()]\n",
    "faltantes_cruce = homicidios_hechos[homicidios_hechos['Cruce'].isnull()]\n",
    "\n",
    "# Verificar si los registros que tienen cruce no tienen altura y viceversa\n",
    "altura_sin_cruce = faltantes_altura['Cruce'].notnull().sum()\n",
    "cruce_sin_altura = faltantes_cruce['Altura'].notnull().sum()\n",
    "\n",
    "# Guardar los resultados en un dataframe para documentar\n",
    "patrones_faltantes = pd.DataFrame({\n",
    "    'Altura sin Cruce': [altura_sin_cruce],\n",
    "    'Cruce sin Altura': [cruce_sin_altura]\n",
    "})\n",
    "patrones_faltantes"
   ]
  },
  {
   "cell_type": "markdown",
   "metadata": {},
   "source": [
    "4. Dirección Normalizada: Ver específicamente esos valores y analizarlo"
   ]
  },
  {
   "cell_type": "code",
   "execution_count": 10,
   "metadata": {},
   "outputs": [
    {
     "data": {
      "text/html": [
       "<div>\n",
       "<style scoped>\n",
       "    .dataframe tbody tr th:only-of-type {\n",
       "        vertical-align: middle;\n",
       "    }\n",
       "\n",
       "    .dataframe tbody tr th {\n",
       "        vertical-align: top;\n",
       "    }\n",
       "\n",
       "    .dataframe thead th {\n",
       "        text-align: right;\n",
       "    }\n",
       "</style>\n",
       "<table border=\"1\" class=\"dataframe\">\n",
       "  <thead>\n",
       "    <tr style=\"text-align: right;\">\n",
       "      <th></th>\n",
       "      <th>ID</th>\n",
       "      <th>N_VICTIMAS</th>\n",
       "      <th>FECHA</th>\n",
       "      <th>AAAA</th>\n",
       "      <th>MM</th>\n",
       "      <th>DD</th>\n",
       "      <th>HORA</th>\n",
       "      <th>HH</th>\n",
       "      <th>LUGAR_DEL_HECHO</th>\n",
       "      <th>TIPO_DE_CALLE</th>\n",
       "      <th>...</th>\n",
       "      <th>Altura</th>\n",
       "      <th>Cruce</th>\n",
       "      <th>Dirección Normalizada</th>\n",
       "      <th>COMUNA</th>\n",
       "      <th>XY (CABA)</th>\n",
       "      <th>pos x</th>\n",
       "      <th>pos y</th>\n",
       "      <th>PARTICIPANTES</th>\n",
       "      <th>VICTIMA</th>\n",
       "      <th>ACUSADO</th>\n",
       "    </tr>\n",
       "  </thead>\n",
       "  <tbody>\n",
       "    <tr>\n",
       "      <th>38</th>\n",
       "      <td>2016-0052</td>\n",
       "      <td>1</td>\n",
       "      <td>2016-04-20</td>\n",
       "      <td>2016</td>\n",
       "      <td>4</td>\n",
       "      <td>20</td>\n",
       "      <td>20:00:00</td>\n",
       "      <td>20</td>\n",
       "      <td>AUTOPISTA LUGONES PK 10000</td>\n",
       "      <td>AUTOPISTA</td>\n",
       "      <td>...</td>\n",
       "      <td>NaN</td>\n",
       "      <td>NaN</td>\n",
       "      <td>NaN</td>\n",
       "      <td>13</td>\n",
       "      <td>Point (. .)</td>\n",
       "      <td>.</td>\n",
       "      <td>.</td>\n",
       "      <td>MOTO-SD</td>\n",
       "      <td>MOTO</td>\n",
       "      <td>SD</td>\n",
       "    </tr>\n",
       "    <tr>\n",
       "      <th>106</th>\n",
       "      <td>2016-0136</td>\n",
       "      <td>1</td>\n",
       "      <td>2016-10-25</td>\n",
       "      <td>2016</td>\n",
       "      <td>10</td>\n",
       "      <td>25</td>\n",
       "      <td>00:00:00</td>\n",
       "      <td>0</td>\n",
       "      <td>AU BUENOS AIRES - LA PLATA KM. 4</td>\n",
       "      <td>AUTOPISTA</td>\n",
       "      <td>...</td>\n",
       "      <td>NaN</td>\n",
       "      <td>NaN</td>\n",
       "      <td>NaN</td>\n",
       "      <td>4</td>\n",
       "      <td>Point (. .)</td>\n",
       "      <td>.</td>\n",
       "      <td>.</td>\n",
       "      <td>MOTO-CARGAS</td>\n",
       "      <td>MOTO</td>\n",
       "      <td>CARGAS</td>\n",
       "    </tr>\n",
       "    <tr>\n",
       "      <th>119</th>\n",
       "      <td>2016-0151</td>\n",
       "      <td>1</td>\n",
       "      <td>2016-11-18</td>\n",
       "      <td>2016</td>\n",
       "      <td>11</td>\n",
       "      <td>18</td>\n",
       "      <td>20:35:00</td>\n",
       "      <td>20</td>\n",
       "      <td>SD</td>\n",
       "      <td>CALLE</td>\n",
       "      <td>...</td>\n",
       "      <td>NaN</td>\n",
       "      <td>NaN</td>\n",
       "      <td>NaN</td>\n",
       "      <td>0</td>\n",
       "      <td>Point (. .)</td>\n",
       "      <td>.</td>\n",
       "      <td>.</td>\n",
       "      <td>PEATON-SD</td>\n",
       "      <td>PEATON</td>\n",
       "      <td>SD</td>\n",
       "    </tr>\n",
       "    <tr>\n",
       "      <th>180</th>\n",
       "      <td>2017-0050</td>\n",
       "      <td>2</td>\n",
       "      <td>2017-04-28</td>\n",
       "      <td>2017</td>\n",
       "      <td>4</td>\n",
       "      <td>28</td>\n",
       "      <td>11:08:08</td>\n",
       "      <td>11</td>\n",
       "      <td>AU PERITO MORENO Y RAMAL ENLACE AU1/AU6</td>\n",
       "      <td>AUTOPISTA</td>\n",
       "      <td>...</td>\n",
       "      <td>NaN</td>\n",
       "      <td>NaN</td>\n",
       "      <td>NaN</td>\n",
       "      <td>9</td>\n",
       "      <td>Point (. .)</td>\n",
       "      <td>.</td>\n",
       "      <td>.</td>\n",
       "      <td>MOTO-CARGAS</td>\n",
       "      <td>MOTO</td>\n",
       "      <td>CARGAS</td>\n",
       "    </tr>\n",
       "    <tr>\n",
       "      <th>181</th>\n",
       "      <td>2017-0051</td>\n",
       "      <td>1</td>\n",
       "      <td>2017-05-01</td>\n",
       "      <td>2017</td>\n",
       "      <td>5</td>\n",
       "      <td>1</td>\n",
       "      <td>03:47:47</td>\n",
       "      <td>3</td>\n",
       "      <td>AU DELLEPIANE 2400</td>\n",
       "      <td>AUTOPISTA</td>\n",
       "      <td>...</td>\n",
       "      <td>NaN</td>\n",
       "      <td>NaN</td>\n",
       "      <td>NaN</td>\n",
       "      <td>7</td>\n",
       "      <td>Point (. .)</td>\n",
       "      <td>.</td>\n",
       "      <td>.</td>\n",
       "      <td>AUTO-AUTO</td>\n",
       "      <td>AUTO</td>\n",
       "      <td>AUTO</td>\n",
       "    </tr>\n",
       "    <tr>\n",
       "      <th>313</th>\n",
       "      <td>2018-0039</td>\n",
       "      <td>1</td>\n",
       "      <td>2018-04-21</td>\n",
       "      <td>2018</td>\n",
       "      <td>4</td>\n",
       "      <td>21</td>\n",
       "      <td>22:15:00</td>\n",
       "      <td>22</td>\n",
       "      <td>AUTOPISTA LUGONES KM 4.7</td>\n",
       "      <td>AUTOPISTA</td>\n",
       "      <td>...</td>\n",
       "      <td>NaN</td>\n",
       "      <td>NaN</td>\n",
       "      <td>NaN</td>\n",
       "      <td>14</td>\n",
       "      <td>Point (. .)</td>\n",
       "      <td>.</td>\n",
       "      <td>.</td>\n",
       "      <td>PEATON-AUTO</td>\n",
       "      <td>PEATON</td>\n",
       "      <td>AUTO</td>\n",
       "    </tr>\n",
       "    <tr>\n",
       "      <th>546</th>\n",
       "      <td>2020-0026</td>\n",
       "      <td>1</td>\n",
       "      <td>2020-05-17</td>\n",
       "      <td>2020</td>\n",
       "      <td>5</td>\n",
       "      <td>17</td>\n",
       "      <td>06:40:00</td>\n",
       "      <td>6</td>\n",
       "      <td>LUGONES, LEOPOLDO AV. KM 6,1</td>\n",
       "      <td>AUTOPISTA</td>\n",
       "      <td>...</td>\n",
       "      <td>NaN</td>\n",
       "      <td>NaN</td>\n",
       "      <td>NaN</td>\n",
       "      <td>14</td>\n",
       "      <td>Point (. .)</td>\n",
       "      <td>.</td>\n",
       "      <td>.</td>\n",
       "      <td>MOTO-OBJETO FIJO</td>\n",
       "      <td>MOTO</td>\n",
       "      <td>OBJETO FIJO</td>\n",
       "    </tr>\n",
       "    <tr>\n",
       "      <th>621</th>\n",
       "      <td>2021-0023</td>\n",
       "      <td>1</td>\n",
       "      <td>2021-03-01</td>\n",
       "      <td>2021</td>\n",
       "      <td>3</td>\n",
       "      <td>1</td>\n",
       "      <td>09:20:00</td>\n",
       "      <td>9</td>\n",
       "      <td>AU BUENOS AIRES LA PLATA  KM 4,5</td>\n",
       "      <td>AUTOPISTA</td>\n",
       "      <td>...</td>\n",
       "      <td>NaN</td>\n",
       "      <td>NaN</td>\n",
       "      <td>NaN</td>\n",
       "      <td>4</td>\n",
       "      <td>Point (. .)</td>\n",
       "      <td>.</td>\n",
       "      <td>.</td>\n",
       "      <td>MOTO-CARGAS</td>\n",
       "      <td>MOTO</td>\n",
       "      <td>CARGAS</td>\n",
       "    </tr>\n",
       "  </tbody>\n",
       "</table>\n",
       "<p>8 rows × 21 columns</p>\n",
       "</div>"
      ],
      "text/plain": [
       "            ID  N_VICTIMAS      FECHA  AAAA  MM  DD      HORA  HH  \\\n",
       "38   2016-0052           1 2016-04-20  2016   4  20  20:00:00  20   \n",
       "106  2016-0136           1 2016-10-25  2016  10  25  00:00:00   0   \n",
       "119  2016-0151           1 2016-11-18  2016  11  18  20:35:00  20   \n",
       "180  2017-0050           2 2017-04-28  2017   4  28  11:08:08  11   \n",
       "181  2017-0051           1 2017-05-01  2017   5   1  03:47:47   3   \n",
       "313  2018-0039           1 2018-04-21  2018   4  21  22:15:00  22   \n",
       "546  2020-0026           1 2020-05-17  2020   5  17  06:40:00   6   \n",
       "621  2021-0023           1 2021-03-01  2021   3   1  09:20:00   9   \n",
       "\n",
       "                             LUGAR_DEL_HECHO TIPO_DE_CALLE  ... Altura  Cruce  \\\n",
       "38                AUTOPISTA LUGONES PK 10000     AUTOPISTA  ...    NaN    NaN   \n",
       "106         AU BUENOS AIRES - LA PLATA KM. 4     AUTOPISTA  ...    NaN    NaN   \n",
       "119                                       SD         CALLE  ...    NaN    NaN   \n",
       "180  AU PERITO MORENO Y RAMAL ENLACE AU1/AU6     AUTOPISTA  ...    NaN    NaN   \n",
       "181                       AU DELLEPIANE 2400     AUTOPISTA  ...    NaN    NaN   \n",
       "313                 AUTOPISTA LUGONES KM 4.7     AUTOPISTA  ...    NaN    NaN   \n",
       "546             LUGONES, LEOPOLDO AV. KM 6,1     AUTOPISTA  ...    NaN    NaN   \n",
       "621         AU BUENOS AIRES LA PLATA  KM 4,5     AUTOPISTA  ...    NaN    NaN   \n",
       "\n",
       "    Dirección Normalizada COMUNA    XY (CABA) pos x pos y     PARTICIPANTES  \\\n",
       "38                    NaN     13  Point (. .)     .     .           MOTO-SD   \n",
       "106                   NaN      4  Point (. .)     .     .       MOTO-CARGAS   \n",
       "119                   NaN      0  Point (. .)     .     .         PEATON-SD   \n",
       "180                   NaN      9  Point (. .)     .     .       MOTO-CARGAS   \n",
       "181                   NaN      7  Point (. .)     .     .         AUTO-AUTO   \n",
       "313                   NaN     14  Point (. .)     .     .       PEATON-AUTO   \n",
       "546                   NaN     14  Point (. .)     .     .  MOTO-OBJETO FIJO   \n",
       "621                   NaN      4  Point (. .)     .     .       MOTO-CARGAS   \n",
       "\n",
       "    VICTIMA      ACUSADO  \n",
       "38     MOTO           SD  \n",
       "106    MOTO       CARGAS  \n",
       "119  PEATON           SD  \n",
       "180    MOTO       CARGAS  \n",
       "181    AUTO         AUTO  \n",
       "313  PEATON         AUTO  \n",
       "546    MOTO  OBJETO FIJO  \n",
       "621    MOTO       CARGAS  \n",
       "\n",
       "[8 rows x 21 columns]"
      ]
     },
     "execution_count": 10,
     "metadata": {},
     "output_type": "execute_result"
    }
   ],
   "source": [
    "# Mostrar los registros donde falta la 'Dirección Normalizada'\n",
    "registros_faltantes_direccion = homicidios_hechos[homicidios_hechos['Dirección Normalizada'].isnull()]\n",
    "\n",
    "registros_faltantes_direccion"
   ]
  },
  {
   "cell_type": "markdown",
   "metadata": {},
   "source": [
    "Resultado del análisis:\n",
    "\n",
    "- Altura: Se observa que, en la gran mayoría, los registros que tienen un Cruce no tienen Altura y viceversa. Esto tiene sentido ya que, en intersecciones, la altura puede no ser necesaria para identificar la ubicación del siniestro.\n",
    "\n",
    "- Cruce: Los registros que no tienen Cruce suelen tener Altura, indicando que la ubicación fue registrada de otra manera.\n",
    "\n",
    "- Dirección Normalizada: Hay 8 valores faltantes, los cuales 7 corresponden a autopistas, lo cual es lógico ya que estas ubicaciones pueden no tener una dirección normalizada."
   ]
  },
  {
   "cell_type": "code",
   "execution_count": 11,
   "metadata": {},
   "outputs": [
    {
     "name": "stdout",
     "output_type": "stream",
     "text": [
      "Altura    0\n",
      "Cruce     0\n",
      "dtype: int64\n"
     ]
    }
   ],
   "source": [
    "# Reemplazar valores nulos en 'Altura' con 'Desconocido'\n",
    "homicidios_hechos['Altura'].fillna('Desconocido', inplace=True)\n",
    "\n",
    "# Reemplazar valores nulos en 'Cruce' con 'Desconocido'\n",
    "homicidios_hechos['Cruce'].fillna('Desconocido', inplace=True)\n",
    "\n",
    "# Verificar que se han reemplazado correctamente\n",
    "print(homicidios_hechos[['Altura', 'Cruce']].isnull().sum())"
   ]
  },
  {
   "cell_type": "markdown",
   "metadata": {},
   "source": [
    "#### Outliers"
   ]
  },
  {
   "cell_type": "markdown",
   "metadata": {},
   "source": [
    "##### _Distribución de Siniestros por horas_"
   ]
  },
  {
   "cell_type": "code",
   "execution_count": null,
   "metadata": {},
   "outputs": [],
   "source": [
    "# Convertir a formato datetime\n",
    "homicidios_hechos['HORA'] = pd.to_datetime(homicidios_hechos['HORA'], format='%H:%M:%S', errors='coerce')"
   ]
  },
  {
   "cell_type": "code",
   "execution_count": null,
   "metadata": {},
   "outputs": [],
   "source": [
    "# Extraer la hora como número entero\n",
    "homicidios_hechos['HORA_NUM'] = homicidios_hechos['HORA'].dt.hour"
   ]
  },
  {
   "cell_type": "code",
   "execution_count": 19,
   "metadata": {},
   "outputs": [
    {
     "data": {
      "image/png": "[encoded data removed]",
      "text/plain": [
       "<Figure size 1200x600 with 1 Axes>"
      ]
     },
     "metadata": {},
     "output_type": "display_data"
    }
   ],
   "source": [
    "# Graficar el histograma de las horas\n",
    "plt.figure(figsize=(12, 6))\n",
    "sns.histplot(homicidios_hechos['HORA_NUM'].dropna(), bins=24, kde=True, color='skyblue')\n",
    "plt.title('Distribución de Siniestros por Hora del Día')\n",
    "plt.xlabel('Hora del Día')\n",
    "plt.ylabel('Cantidad de Siniestros')\n",
    "plt.xticks(range(0, 24))\n",
    "plt.grid(axis='y')\n",
    "plt.show()\n"
   ]
  },
  {
   "cell_type": "code",
   "execution_count": 18,
   "metadata": {},
   "outputs": [
    {
     "data": {
      "image/png": "[encoded data removed]",
      "text/plain": [
       "<Figure size 1200x600 with 1 Axes>"
      ]
     },
     "metadata": {},
     "output_type": "display_data"
    }
   ],
   "source": [
    "# Graficar un boxplot de las horas\n",
    "plt.figure(figsize=(12, 6))\n",
    "sns.boxplot(x=homicidios_hechos['HORA_NUM'], color='skyblue')\n",
    "plt.title('Boxplot de Horas de Siniestros')\n",
    "plt.xlabel('Hora del Día')\n",
    "plt.grid(axis='x')\n",
    "plt.show()\n"
   ]
  },
  {
   "cell_type": "markdown",
   "metadata": {},
   "source": [
    "Conclusiones:\n",
    "\n",
    "- Distribución Simétrica: La distribución de las horas de los siniestros parece bastante simétrica, con la mediana cerca del centro del rango intercuartílico.\n",
    "\n",
    "- Rango Amplio de Siniestros: Los siniestros ocurren en un rango amplio de horas, desde la madrugada (alrededor de las 0:00) hasta la noche (cerca de las 23:00).\n",
    "\n",
    "- Concentración de Siniestros: La mayor concentración de siniestros ocurre entre las 6:00 y las 18:00 horas, según el rango intercuartílico.\n",
    "\n",
    "- Ausencia de Outliers: No hay outliers significativos en las horas de los siniestros, lo que sugiere que los datos de horas están bien distribuidos y no tienen valores extremadamente atípicos.\n"
   ]
  },
  {
   "cell_type": "markdown",
   "metadata": {},
   "source": [
    "##### _Distribución por tipo de calle_"
   ]
  },
  {
   "cell_type": "code",
   "execution_count": 20,
   "metadata": {},
   "outputs": [
    {
     "data": {
      "image/png": "[encoded data removed]",
      "text/plain": [
       "<Figure size 1000x600 with 1 Axes>"
      ]
     },
     "metadata": {},
     "output_type": "display_data"
    }
   ],
   "source": [
    "# Análisis de distribución por tipo de calle\n",
    "distribucion_tipo_calle = homicidios_hechos['TIPO_DE_CALLE'].value_counts()\n",
    "\n",
    "# Visualización de la distribución en un gráfico de torta\n",
    "plt.figure(figsize=(10, 6))\n",
    "plt.pie(distribucion_tipo_calle.values, labels=distribucion_tipo_calle.index, autopct='%1.1f%%', startangle=140, colors=sns.color_palette(\"pastel\"))\n",
    "plt.title('Distribución de Siniestros por Tipo de Calle')\n",
    "plt.axis('equal')\n",
    "plt.show()\n"
   ]
  },
  {
   "cell_type": "markdown",
   "metadata": {},
   "source": [
    "##### _Distribucón por Comuna_"
   ]
  },
  {
   "cell_type": "code",
   "execution_count": 90,
   "metadata": {},
   "outputs": [
    {
     "data": {
      "image/png": "[encoded data removed]",
      "text/plain": [
       "<Figure size 1000x600 with 1 Axes>"
      ]
     },
     "metadata": {},
     "output_type": "display_data"
    }
   ],
   "source": [
    "# Análisis de distribución por comuna\n",
    "distribucion_comuna = homicidios_hechos['COMUNA'].value_counts()\n",
    "\n",
    "# Visualización de la distribución\n",
    "plt.figure(figsize=(10, 6))\n",
    "sns.barplot(x=distribucion_comuna.index, y=distribucion_comuna.values)\n",
    "plt.title('Distribución de Siniestros por Comuna')\n",
    "plt.xlabel('Comuna')\n",
    "plt.ylabel('Cantidad de Siniestros')\n",
    "plt.show()"
   ]
  },
  {
   "cell_type": "markdown",
   "metadata": {},
   "source": [
    "##### _Distribución por vehículo involucrado_"
   ]
  },
  {
   "cell_type": "code",
   "execution_count": 91,
   "metadata": {},
   "outputs": [
    {
     "data": {
      "image/png": "[encoded data removed]",
      "text/plain": [
       "<Figure size 1000x600 with 1 Axes>"
      ]
     },
     "metadata": {},
     "output_type": "display_data"
    }
   ],
   "source": [
    "# Análisis de distribución por vehículo involucrado\n",
    "distribucion_vehiculo = homicidios_hechos['VICTIMA'].value_counts()\n",
    "\n",
    "# Visualización de la distribución\n",
    "plt.figure(figsize=(10, 6))\n",
    "sns.barplot(x=distribucion_vehiculo.index, y=distribucion_vehiculo.values)\n",
    "plt.title('Distribución de Siniestros por Vehículo Involucrado')\n",
    "plt.xlabel('Tipo de Vehículo')\n",
    "plt.ylabel('Cantidad de Siniestros')\n",
    "plt.show()\n"
   ]
  },
  {
   "cell_type": "markdown",
   "metadata": {},
   "source": [
    "##### _Distribución por año_"
   ]
  },
  {
   "cell_type": "code",
   "execution_count": 21,
   "metadata": {},
   "outputs": [
    {
     "data": {
      "image/png": "[encoded data removed]",
      "text/plain": [
       "<Figure size 1000x600 with 1 Axes>"
      ]
     },
     "metadata": {},
     "output_type": "display_data"
    }
   ],
   "source": [
    "# Análisis de distribución por año\n",
    "distribucion_anio = homicidios_hechos['AAAA'].value_counts().sort_index()\n",
    "\n",
    "# Visualización de la distribución por año con gráfico de líneas\n",
    "plt.figure(figsize=(10, 6))\n",
    "sns.lineplot(x=distribucion_anio.index, y=distribucion_anio.values, marker='o')\n",
    "plt.title('Distribución de Siniestros por Año')\n",
    "plt.xlabel('Año')\n",
    "plt.ylabel('Cantidad de Siniestros')\n",
    "plt.grid(True)\n",
    "plt.show()"
   ]
  },
  {
   "cell_type": "markdown",
   "metadata": {},
   "source": [
    "##### Resumen de los Analisis Realizados"
   ]
  },
  {
   "cell_type": "markdown",
   "metadata": {},
   "source": [
    "1. **Distribución de Siniestros por Hora**:\n",
    "   - La mayoría de los siniestros se concentran entre las 6:00 y las 18:00 horas.\n",
    "   - No se detectaron outliers significativos en los datos de horas, lo que sugiere una distribución bastante uniforme dentro de este rango.\n",
    "\n",
    "2. **Distribución de Siniestros por Tipo de Calle**:\n",
    "   - **Avenidas**: Representan el 61.6% de los siniestros, probablemente debido al mayor volumen de tráfico y velocidad.\n",
    "   - **Calles**: Con el 19.5% de los siniestros, siguen siendo una zona crítica para la seguridad vial.\n",
    "   - **Autopistas y General Paz**: Ambas tienen aproximadamente el 9.5% de los siniestros, siendo áreas de alta velocidad y potencialmente más peligrosas.\n",
    "\n",
    "3. **Distribución de Siniestros por Comuna**:\n",
    "   - Las comunas 1, 3, 4, 8 y 9 tienen la mayor cantidad de siniestros, con la Comuna 1 destacándose significativamente.\n",
    "   - Las comunas 5 y 6 tienen una incidencia mucho menor de siniestros.\n",
    "\n",
    "4. **Distribución de Siniestros por Vehículo Involucrado**:\n",
    "   - **Motociclistas**: Son el grupo más afectado, seguido de los peatones.\n",
    "   - **Peatones**: Tienen una alta incidencia, resaltando la necesidad de mejorar la infraestructura peatonal.\n",
    "   - **Automóviles**: Aunque menos afectados que motociclistas y peatones, todavía representan una parte significativa de los siniestros.\n",
    "\n",
    "5. **Distribución de Siniestros por Año**:\n",
    "   - Se observa una tendencia a la disminución general de siniestros desde 2016 hasta 2020, con un aumento en 2021.\n",
    "   - El año 2020 muestra una caída significativa, probablemente debido a la pandemia de COVID-19 y las restricciones de movilidad."
   ]
  },
  {
   "cell_type": "markdown",
   "metadata": {},
   "source": [
    "##### Relaciones Interesantes y Recomendaciones"
   ]
  },
  {
   "cell_type": "markdown",
   "metadata": {},
   "source": [
    "\n",
    "1. **Avenidas y Siniestros**:\n",
    "   - La alta incidencia de siniestros en avenidas sugiere la necesidad de implementar medidas de seguridad específicas para estas áreas, como el aumento de la señalización y el control de velocidad.\n",
    "\n",
    "2. **Comunas Centrales y Tráfico**:\n",
    "   - Las comunas centrales, como la Comuna 1, tienen una alta concentración de siniestros, posiblemente debido al alto tráfico y densidad de población. Mejorar la infraestructura vial y aumentar la presencia de agentes de tránsito en estas áreas podría reducir los siniestros.\n",
    "\n",
    "3. **Motociclistas y Peatones**:\n",
    "   - La alta incidencia de siniestros que involucran motociclistas y peatones subraya la necesidad de campañas de concientización y educación, así como mejoras en la infraestructura para estos usuarios de la vía.\n",
    "\n",
    "4. **Impacto de la Pandemia en 2020**:\n",
    "   - La disminución significativa de siniestros en 2020 debido a la pandemia muestra cómo la reducción del tráfico puede impactar positivamente la seguridad vial. Se podrían considerar políticas que promuevan la reducción del uso del automóvil en favor del transporte público y modos de transporte más seguros.\n",
    "\n",
    "5. **Reactivación y Aumento de Siniestros en 2021**:\n",
    "   - El aumento de siniestros en 2021 sugiere que la vuelta a la normalidad trae consigo un incremento en los riesgos viales. Es crucial monitorear esta tendencia y ajustar las políticas de seguridad vial para manejar el aumento de tráfico de manera segura.\n"
   ]
  },
  {
   "cell_type": "markdown",
   "metadata": {},
   "source": [
    "#### Duplicados"
   ]
  },
  {
   "cell_type": "code",
   "execution_count": 23,
   "metadata": {},
   "outputs": [
    {
     "name": "stdout",
     "output_type": "stream",
     "text": [
      "Cantidad de registros duplicados: 0\n",
      "Registros duplicados:\n"
     ]
    },
    {
     "data": {
      "text/html": [
       "<div>\n",
       "<style scoped>\n",
       "    .dataframe tbody tr th:only-of-type {\n",
       "        vertical-align: middle;\n",
       "    }\n",
       "\n",
       "    .dataframe tbody tr th {\n",
       "        vertical-align: top;\n",
       "    }\n",
       "\n",
       "    .dataframe thead th {\n",
       "        text-align: right;\n",
       "    }\n",
       "</style>\n",
       "<table border=\"1\" class=\"dataframe\">\n",
       "  <thead>\n",
       "    <tr style=\"text-align: right;\">\n",
       "      <th></th>\n",
       "      <th>ID</th>\n",
       "      <th>N_VICTIMAS</th>\n",
       "      <th>FECHA</th>\n",
       "      <th>AAAA</th>\n",
       "      <th>MM</th>\n",
       "      <th>DD</th>\n",
       "      <th>HORA</th>\n",
       "      <th>HH</th>\n",
       "      <th>LUGAR_DEL_HECHO</th>\n",
       "      <th>TIPO_DE_CALLE</th>\n",
       "      <th>...</th>\n",
       "      <th>Altura</th>\n",
       "      <th>Cruce</th>\n",
       "      <th>Dirección Normalizada</th>\n",
       "      <th>COMUNA</th>\n",
       "      <th>XY (CABA)</th>\n",
       "      <th>pos x</th>\n",
       "      <th>pos y</th>\n",
       "      <th>PARTICIPANTES</th>\n",
       "      <th>VICTIMA</th>\n",
       "      <th>ACUSADO</th>\n",
       "    </tr>\n",
       "  </thead>\n",
       "  <tbody>\n",
       "  </tbody>\n",
       "</table>\n",
       "<p>0 rows × 21 columns</p>\n",
       "</div>"
      ],
      "text/plain": [
       "Empty DataFrame\n",
       "Columns: [ID, N_VICTIMAS, FECHA, AAAA, MM, DD, HORA, HH, LUGAR_DEL_HECHO, TIPO_DE_CALLE, Calle, Altura, Cruce, Dirección Normalizada, COMUNA, XY (CABA), pos x, pos y, PARTICIPANTES, VICTIMA, ACUSADO]\n",
       "Index: []\n",
       "\n",
       "[0 rows x 21 columns]"
      ]
     },
     "metadata": {},
     "output_type": "display_data"
    }
   ],
   "source": [
    "# Detectar registros duplicados\n",
    "duplicados = homicidios_hechos.duplicated()\n",
    "\n",
    "# Contar la cantidad de registros duplicados\n",
    "cantidad_duplicados = duplicados.sum()\n",
    "print(f\"Cantidad de registros duplicados: {cantidad_duplicados}\")\n",
    "\n",
    "# Mostrar los registros duplicados\n",
    "registros_duplicados = homicidios_hechos[duplicados]\n",
    "print(\"Registros duplicados:\")\n",
    "display(registros_duplicados)\n"
   ]
  },
  {
   "cell_type": "markdown",
   "metadata": {},
   "source": [
    "No hay registros duplicados."
   ]
  },
  {
   "cell_type": "markdown",
   "metadata": {},
   "source": [
    "### Hoja: VICTIMAS"
   ]
  },
  {
   "cell_type": "markdown",
   "metadata": {},
   "source": [
    "#### Dimensiones y Tipos de Datos"
   ]
  },
  {
   "cell_type": "code",
   "execution_count": 24,
   "metadata": {},
   "outputs": [
    {
     "data": {
      "text/html": [
       "<div>\n",
       "<style scoped>\n",
       "    .dataframe tbody tr th:only-of-type {\n",
       "        vertical-align: middle;\n",
       "    }\n",
       "\n",
       "    .dataframe tbody tr th {\n",
       "        vertical-align: top;\n",
       "    }\n",
       "\n",
       "    .dataframe thead th {\n",
       "        text-align: right;\n",
       "    }\n",
       "</style>\n",
       "<table border=\"1\" class=\"dataframe\">\n",
       "  <thead>\n",
       "    <tr style=\"text-align: right;\">\n",
       "      <th></th>\n",
       "      <th>Filas</th>\n",
       "      <th>Columnas</th>\n",
       "    </tr>\n",
       "  </thead>\n",
       "  <tbody>\n",
       "    <tr>\n",
       "      <th>0</th>\n",
       "      <td>717</td>\n",
       "      <td>10</td>\n",
       "    </tr>\n",
       "  </tbody>\n",
       "</table>\n",
       "</div>"
      ],
      "text/plain": [
       "   Filas  Columnas\n",
       "0    717        10"
      ]
     },
     "metadata": {},
     "output_type": "display_data"
    },
    {
     "data": {
      "text/html": [
       "<div>\n",
       "<style scoped>\n",
       "    .dataframe tbody tr th:only-of-type {\n",
       "        vertical-align: middle;\n",
       "    }\n",
       "\n",
       "    .dataframe tbody tr th {\n",
       "        vertical-align: top;\n",
       "    }\n",
       "\n",
       "    .dataframe thead th {\n",
       "        text-align: right;\n",
       "    }\n",
       "</style>\n",
       "<table border=\"1\" class=\"dataframe\">\n",
       "  <thead>\n",
       "    <tr style=\"text-align: right;\">\n",
       "      <th></th>\n",
       "      <th>Tipo de Dato</th>\n",
       "    </tr>\n",
       "  </thead>\n",
       "  <tbody>\n",
       "    <tr>\n",
       "      <th>ID_hecho</th>\n",
       "      <td>object</td>\n",
       "    </tr>\n",
       "    <tr>\n",
       "      <th>FECHA</th>\n",
       "      <td>datetime64[ns]</td>\n",
       "    </tr>\n",
       "    <tr>\n",
       "      <th>AAAA</th>\n",
       "      <td>int64</td>\n",
       "    </tr>\n",
       "    <tr>\n",
       "      <th>MM</th>\n",
       "      <td>int64</td>\n",
       "    </tr>\n",
       "    <tr>\n",
       "      <th>DD</th>\n",
       "      <td>int64</td>\n",
       "    </tr>\n",
       "    <tr>\n",
       "      <th>ROL</th>\n",
       "      <td>object</td>\n",
       "    </tr>\n",
       "    <tr>\n",
       "      <th>VICTIMA</th>\n",
       "      <td>object</td>\n",
       "    </tr>\n",
       "    <tr>\n",
       "      <th>SEXO</th>\n",
       "      <td>object</td>\n",
       "    </tr>\n",
       "    <tr>\n",
       "      <th>EDAD</th>\n",
       "      <td>object</td>\n",
       "    </tr>\n",
       "    <tr>\n",
       "      <th>FECHA_FALLECIMIENTO</th>\n",
       "      <td>object</td>\n",
       "    </tr>\n",
       "  </tbody>\n",
       "</table>\n",
       "</div>"
      ],
      "text/plain": [
       "                       Tipo de Dato\n",
       "ID_hecho                     object\n",
       "FECHA                datetime64[ns]\n",
       "AAAA                          int64\n",
       "MM                            int64\n",
       "DD                            int64\n",
       "ROL                          object\n",
       "VICTIMA                      object\n",
       "SEXO                         object\n",
       "EDAD                         object\n",
       "FECHA_FALLECIMIENTO          object"
      ]
     },
     "metadata": {},
     "output_type": "display_data"
    }
   ],
   "source": [
    "# Dimensiones y tipos de datos\n",
    "homicidios_victimas = homicidios['VICTIMAS']\n",
    "dimensiones_victimas = pd.DataFrame({\n",
    "    'Filas': [homicidios_victimas.shape[0]],\n",
    "    'Columnas': [homicidios_victimas.shape[1]]\n",
    "})\n",
    "tipos_victimas = pd.DataFrame(homicidios_victimas.dtypes, columns=['Tipo de Dato'])\n",
    "\n",
    "# Mostrar dimensiones y tipos de datos\n",
    "display(dimensiones_victimas)\n",
    "display(tipos_victimas)"
   ]
  },
  {
   "cell_type": "markdown",
   "metadata": {},
   "source": [
    "#### Valores Faltantes"
   ]
  },
  {
   "cell_type": "code",
   "execution_count": 26,
   "metadata": {},
   "outputs": [
    {
     "data": {
      "text/html": [
       "<div>\n",
       "<style scoped>\n",
       "    .dataframe tbody tr th:only-of-type {\n",
       "        vertical-align: middle;\n",
       "    }\n",
       "\n",
       "    .dataframe tbody tr th {\n",
       "        vertical-align: top;\n",
       "    }\n",
       "\n",
       "    .dataframe thead th {\n",
       "        text-align: right;\n",
       "    }\n",
       "</style>\n",
       "<table border=\"1\" class=\"dataframe\">\n",
       "  <thead>\n",
       "    <tr style=\"text-align: right;\">\n",
       "      <th></th>\n",
       "      <th>Valores Faltantes</th>\n",
       "    </tr>\n",
       "  </thead>\n",
       "  <tbody>\n",
       "    <tr>\n",
       "      <th>ID_hecho</th>\n",
       "      <td>0</td>\n",
       "    </tr>\n",
       "    <tr>\n",
       "      <th>FECHA</th>\n",
       "      <td>0</td>\n",
       "    </tr>\n",
       "    <tr>\n",
       "      <th>AAAA</th>\n",
       "      <td>0</td>\n",
       "    </tr>\n",
       "    <tr>\n",
       "      <th>MM</th>\n",
       "      <td>0</td>\n",
       "    </tr>\n",
       "    <tr>\n",
       "      <th>DD</th>\n",
       "      <td>0</td>\n",
       "    </tr>\n",
       "    <tr>\n",
       "      <th>ROL</th>\n",
       "      <td>0</td>\n",
       "    </tr>\n",
       "    <tr>\n",
       "      <th>VICTIMA</th>\n",
       "      <td>0</td>\n",
       "    </tr>\n",
       "    <tr>\n",
       "      <th>SEXO</th>\n",
       "      <td>0</td>\n",
       "    </tr>\n",
       "    <tr>\n",
       "      <th>EDAD</th>\n",
       "      <td>0</td>\n",
       "    </tr>\n",
       "    <tr>\n",
       "      <th>FECHA_FALLECIMIENTO</th>\n",
       "      <td>0</td>\n",
       "    </tr>\n",
       "  </tbody>\n",
       "</table>\n",
       "</div>"
      ],
      "text/plain": [
       "                     Valores Faltantes\n",
       "ID_hecho                             0\n",
       "FECHA                                0\n",
       "AAAA                                 0\n",
       "MM                                   0\n",
       "DD                                   0\n",
       "ROL                                  0\n",
       "VICTIMA                              0\n",
       "SEXO                                 0\n",
       "EDAD                                 0\n",
       "FECHA_FALLECIMIENTO                  0"
      ]
     },
     "metadata": {},
     "output_type": "display_data"
    }
   ],
   "source": [
    "# Verificar valores faltantes en la hoja 'VICTIMAS'\n",
    "valores_faltantes_victimas = pd.DataFrame(homicidios_victimas.isnull().sum(), columns=['Valores Faltantes'])\n",
    "display(valores_faltantes_victimas)"
   ]
  },
  {
   "cell_type": "markdown",
   "metadata": {},
   "source": [
    "No hay valores faltantes."
   ]
  },
  {
   "cell_type": "markdown",
   "metadata": {},
   "source": [
    "#### Duplicados"
   ]
  },
  {
   "cell_type": "code",
   "execution_count": 28,
   "metadata": {},
   "outputs": [
    {
     "name": "stdout",
     "output_type": "stream",
     "text": [
      "Cantidad de registros duplicados: 0\n"
     ]
    }
   ],
   "source": [
    "# Detectar registros duplicados\n",
    "duplicados_victimas = homicidios_victimas.duplicated()\n",
    "\n",
    "# Contar la cantidad de registros duplicados\n",
    "cantidad_duplicados_victimas = duplicados_victimas.sum()\n",
    "print(f\"Cantidad de registros duplicados: {cantidad_duplicados_victimas}\")"
   ]
  },
  {
   "cell_type": "markdown",
   "metadata": {},
   "source": [
    "#### Outliers"
   ]
  },
  {
   "cell_type": "markdown",
   "metadata": {},
   "source": [
    "Convertir la EDAD a tipo numérico"
   ]
  },
  {
   "cell_type": "code",
   "execution_count": 32,
   "metadata": {},
   "outputs": [
    {
     "name": "stdout",
     "output_type": "stream",
     "text": [
      "[19. 70. 30. 18. 29. 22. 16. 59. 65. 34. 41. 50. 38. 21. 52. 36. 20. 54.\n",
      " nan 56. 24. 78. 79. 26. 57. 37. 58. 23. 60. 42. 53. 51. 40. 87. 76. 75.\n",
      " 35. 80. 43. 45. 67. 27. 55. 49. 81. 25. 33. 46. 83. 39. 28.  7. 48.  4.\n",
      " 82. 32. 17. 47. 61. 10. 95. 73. 84. 66. 85.  1. 15. 13. 77. 44. 31. 62.\n",
      " 74. 71. 11. 86. 69. 72. 12. 63. 92. 68. 91. 64.  5. 88.]\n"
     ]
    }
   ],
   "source": [
    "# Convertir la columna EDAD a numérico, forzando a NaN los valores no convertibles\n",
    "homicidios_victimas['EDAD'] = pd.to_numeric(homicidios_victimas['EDAD'], errors='coerce')\n",
    "\n",
    "print(homicidios_victimas['EDAD'].unique())"
   ]
  },
  {
   "cell_type": "markdown",
   "metadata": {},
   "source": [
    "Visualización de posibles outliers"
   ]
  },
  {
   "cell_type": "code",
   "execution_count": 33,
   "metadata": {},
   "outputs": [
    {
     "data": {
      "image/png": "[encoded data removed]",
      "text/plain": [
       "<Figure size 1000x600 with 1 Axes>"
      ]
     },
     "metadata": {},
     "output_type": "display_data"
    }
   ],
   "source": [
    "# Visualización de outliers en la columna EDAD con boxplot\n",
    "plt.figure(figsize=(10, 6))\n",
    "sns.boxplot(x=homicidios_victimas['EDAD'])\n",
    "plt.title('Análisis de Outliers en la Columna EDAD')\n",
    "plt.xlabel('Edad')\n",
    "plt.show()\n"
   ]
  },
  {
   "cell_type": "markdown",
   "metadata": {},
   "source": [
    "El gráfico de boxplot muestra que la distribución de las edades de las víctimas es bastante uniforme, sin valores extremadamente atípicos. Esto sugiere que las edades reportadas son coherentes y no hay edades inusualmente bajas o altas que necesiten ser investigadas o corregidas."
   ]
  },
  {
   "cell_type": "markdown",
   "metadata": {},
   "source": [
    "#### Distribuciones"
   ]
  },
  {
   "cell_type": "markdown",
   "metadata": {},
   "source": [
    "##### _Frecuencia de EDAD_"
   ]
  },
  {
   "cell_type": "code",
   "execution_count": 62,
   "metadata": {},
   "outputs": [
    {
     "data": {
      "image/png": "[encoded data removed]",
      "text/plain": [
       "<Figure size 1400x600 with 1 Axes>"
      ]
     },
     "metadata": {},
     "output_type": "display_data"
    }
   ],
   "source": [
    "# Gráfico de Frecuencia para EDAD\n",
    "plt.figure(figsize=(14, 6))\n",
    "sns.histplot(homicidios_victimas['EDAD'].dropna(), bins=80, kde=False)\n",
    "plt.title('Distribución de EDAD')\n",
    "plt.xlabel('Edad')\n",
    "plt.ylabel('Frecuencia')\n",
    "plt.show()"
   ]
  },
  {
   "cell_type": "markdown",
   "metadata": {},
   "source": [
    "##### _Sexo de las victimas_"
   ]
  },
  {
   "cell_type": "code",
   "execution_count": 60,
   "metadata": {},
   "outputs": [
    {
     "data": {
      "image/png": "[encoded data removed]",
      "text/plain": [
       "<Figure size 1000x600 with 1 Axes>"
      ]
     },
     "metadata": {},
     "output_type": "display_data"
    }
   ],
   "source": [
    "# Gráfico de Torta para SEXO\n",
    "plt.figure(figsize=(10, 6))\n",
    "homicidios_victimas['SEXO'].value_counts().plot.pie(autopct='%1.1f%%', startangle=140, colors=['skyblue', 'lightcoral'])\n",
    "plt.title('Distribución de SEXO')\n",
    "plt.ylabel('')  # Ocultar el label de y\n",
    "plt.show()"
   ]
  },
  {
   "cell_type": "markdown",
   "metadata": {},
   "source": [
    "##### _Relación entre la EDAD y VICTIMA_"
   ]
  },
  {
   "cell_type": "code",
   "execution_count": 63,
   "metadata": {},
   "outputs": [
    {
     "data": {
      "image/png": "[encoded data removed]",
      "text/plain": [
       "<Figure size 1400x600 with 1 Axes>"
      ]
     },
     "metadata": {},
     "output_type": "display_data"
    }
   ],
   "source": [
    "# Gráfico de Caja para la Relación entre EDAD y VICTIMA\n",
    "plt.figure(figsize=(14, 6))\n",
    "sns.boxplot(x='VICTIMA', y='EDAD', data=homicidios_victimas)\n",
    "plt.title('Relación entre EDAD y VICTIMA')\n",
    "plt.xlabel('Tipo de VICTIMA')\n",
    "plt.ylabel('Edad')\n",
    "plt.xticks(rotation=45)\n",
    "plt.show()\n"
   ]
  },
  {
   "cell_type": "markdown",
   "metadata": {},
   "source": [
    "#### Resumen de los Analisis Realizados"
   ]
  },
  {
   "cell_type": "markdown",
   "metadata": {},
   "source": [
    "**Conclusiones:**\n",
    "\n",
    "1. Edad:\n",
    "\n",
    "    - Los jóvenes de 20-25 años y las personas mayores de alrededor de 60 años son los grupos más vulnerables.\n",
    "\n",
    "2. Sexo:\n",
    "\n",
    "    - Los hombres son significativamente más propensos a ser víctimas en siniestros viales.\n",
    "    \n",
    "3. Relación EDAD-VICTIMA\n",
    "\n",
    "    - Motociclistas: Los jóvenes son los más afectados. Esto sugiere la necesidad de campañas de concientización y educación vial dirigidas a motociclistas jóvenes.\n",
    "\n",
    "    - Peatones y Pasajeros: Las personas mayores son más vulnerables. Es crucial mejorar la infraestructura peatonal y la seguridad vehicular para proteger a los ancianos.\n",
    "\n",
    "    - Ciclistas: La amplia variabilidad en las edades indica la necesidad de medidas inclusivas para la seguridad de los ciclistas.\n",
    "\n",
    "    - General: La variabilidad en las edades de las víctimas en diferentes tipos de vehículos resalta la importancia de adaptar las medidas de seguridad a las características específicas de cada grupo."
   ]
  },
  {
   "cell_type": "markdown",
   "metadata": {},
   "source": [
    "### Merge de HECHOS y VICTIMAS"
   ]
  },
  {
   "cell_type": "markdown",
   "metadata": {},
   "source": [
    "#### Info general de los datasets"
   ]
  },
  {
   "cell_type": "code",
   "execution_count": 64,
   "metadata": {},
   "outputs": [
    {
     "name": "stdout",
     "output_type": "stream",
     "text": [
      "<class 'pandas.core.frame.DataFrame'>\n",
      "RangeIndex: 696 entries, 0 to 695\n",
      "Data columns (total 21 columns):\n",
      " #   Column                 Non-Null Count  Dtype         \n",
      "---  ------                 --------------  -----         \n",
      " 0   ID                     696 non-null    object        \n",
      " 1   N_VICTIMAS             696 non-null    int64         \n",
      " 2   FECHA                  696 non-null    datetime64[ns]\n",
      " 3   AAAA                   696 non-null    int64         \n",
      " 4   MM                     696 non-null    int64         \n",
      " 5   DD                     696 non-null    int64         \n",
      " 6   HORA                   696 non-null    object        \n",
      " 7   HH                     696 non-null    object        \n",
      " 8   LUGAR_DEL_HECHO        696 non-null    object        \n",
      " 9   TIPO_DE_CALLE          696 non-null    object        \n",
      " 10  Calle                  695 non-null    object        \n",
      " 11  Altura                 129 non-null    float64       \n",
      " 12  Cruce                  525 non-null    object        \n",
      " 13  Dirección Normalizada  688 non-null    object        \n",
      " 14  COMUNA                 696 non-null    int64         \n",
      " 15  XY (CABA)              696 non-null    object        \n",
      " 16  pos x                  696 non-null    object        \n",
      " 17  pos y                  696 non-null    object        \n",
      " 18  PARTICIPANTES          696 non-null    object        \n",
      " 19  VICTIMA                696 non-null    object        \n",
      " 20  ACUSADO                696 non-null    object        \n",
      "dtypes: datetime64[ns](1), float64(1), int64(5), object(14)\n",
      "memory usage: 114.3+ KB\n"
     ]
    }
   ],
   "source": [
    "homicidios_hechos.info()"
   ]
  },
  {
   "cell_type": "code",
   "execution_count": 68,
   "metadata": {},
   "outputs": [
    {
     "name": "stdout",
     "output_type": "stream",
     "text": [
      "<class 'pandas.core.frame.DataFrame'>\n",
      "RangeIndex: 717 entries, 0 to 716\n",
      "Data columns (total 10 columns):\n",
      " #   Column               Non-Null Count  Dtype         \n",
      "---  ------               --------------  -----         \n",
      " 0   ID_hecho             717 non-null    object        \n",
      " 1   FECHA                717 non-null    datetime64[ns]\n",
      " 2   AAAA                 717 non-null    int64         \n",
      " 3   MM                   717 non-null    int64         \n",
      " 4   DD                   717 non-null    int64         \n",
      " 5   ROL                  717 non-null    object        \n",
      " 6   VICTIMA              717 non-null    object        \n",
      " 7   SEXO                 717 non-null    object        \n",
      " 8   EDAD                 664 non-null    float64       \n",
      " 9   FECHA_FALLECIMIENTO  717 non-null    object        \n",
      "dtypes: datetime64[ns](1), float64(1), int64(3), object(5)\n",
      "memory usage: 56.1+ KB\n"
     ]
    }
   ],
   "source": [
    "homicidios_victimas.info()"
   ]
  },
  {
   "cell_type": "markdown",
   "metadata": {},
   "source": [
    "#### Merge"
   ]
  },
  {
   "cell_type": "code",
   "execution_count": 72,
   "metadata": {},
   "outputs": [],
   "source": [
    "# Configurar pandas para mostrar todas las columnas\n",
    "pd.set_option('display.max_columns', None)"
   ]
  },
  {
   "cell_type": "code",
   "execution_count": null,
   "metadata": {},
   "outputs": [],
   "source": [
    "# Realizar el merge de los datasets\n",
    "merged_data = pd.merge(homicidios_hechos, homicidios_victimas, left_on='ID', right_on='ID_hecho', suffixes=('_hechos', '_victimas'))\n",
    "\n",
    "# Mostrar las primeras filas\n",
    "merged_data.head()"
   ]
  },
  {
   "cell_type": "markdown",
   "metadata": {},
   "source": [
    "#### Transformaciones post merge"
   ]
  },
  {
   "cell_type": "code",
   "execution_count": 75,
   "metadata": {},
   "outputs": [
    {
     "data": {
      "text/html": [
       "<div>\n",
       "<style scoped>\n",
       "    .dataframe tbody tr th:only-of-type {\n",
       "        vertical-align: middle;\n",
       "    }\n",
       "\n",
       "    .dataframe tbody tr th {\n",
       "        vertical-align: top;\n",
       "    }\n",
       "\n",
       "    .dataframe thead th {\n",
       "        text-align: right;\n",
       "    }\n",
       "</style>\n",
       "<table border=\"1\" class=\"dataframe\">\n",
       "  <thead>\n",
       "    <tr style=\"text-align: right;\">\n",
       "      <th></th>\n",
       "      <th>ID</th>\n",
       "      <th>N_VICTIMAS</th>\n",
       "      <th>FECHA</th>\n",
       "      <th>AAAA</th>\n",
       "      <th>MM</th>\n",
       "      <th>DD</th>\n",
       "      <th>HORA</th>\n",
       "      <th>HH</th>\n",
       "      <th>LUGAR_DEL_HECHO</th>\n",
       "      <th>TIPO_DE_CALLE</th>\n",
       "      <th>Calle</th>\n",
       "      <th>Altura</th>\n",
       "      <th>Cruce</th>\n",
       "      <th>Dirección Normalizada</th>\n",
       "      <th>COMUNA</th>\n",
       "      <th>XY (CABA)</th>\n",
       "      <th>pos x</th>\n",
       "      <th>pos y</th>\n",
       "      <th>PARTICIPANTES</th>\n",
       "      <th>ACUSADO</th>\n",
       "      <th>ROL</th>\n",
       "      <th>VICTIMA_victimas</th>\n",
       "      <th>SEXO</th>\n",
       "      <th>EDAD</th>\n",
       "      <th>FECHA_FALLECIMIENTO</th>\n",
       "    </tr>\n",
       "  </thead>\n",
       "  <tbody>\n",
       "    <tr>\n",
       "      <th>0</th>\n",
       "      <td>2016-0001</td>\n",
       "      <td>1</td>\n",
       "      <td>2016-01-01</td>\n",
       "      <td>2016</td>\n",
       "      <td>1</td>\n",
       "      <td>1</td>\n",
       "      <td>04:00:00</td>\n",
       "      <td>4</td>\n",
       "      <td>AV PIEDRA BUENA Y AV FERNANDEZ DE LA CRUZ</td>\n",
       "      <td>AVENIDA</td>\n",
       "      <td>PIEDRA BUENA AV.</td>\n",
       "      <td>NaN</td>\n",
       "      <td>FERNANDEZ DE LA CRUZ, F., GRAL. AV.</td>\n",
       "      <td>PIEDRA BUENA AV. y FERNANDEZ DE LA CRUZ, F., GRAL. AV.</td>\n",
       "      <td>8</td>\n",
       "      <td>Point (98896.78238426 93532.43437792)</td>\n",
       "      <td>-58.47533969</td>\n",
       "      <td>-34.68757022</td>\n",
       "      <td>MOTO-AUTO</td>\n",
       "      <td>AUTO</td>\n",
       "      <td>CONDUCTOR</td>\n",
       "      <td>MOTO</td>\n",
       "      <td>MASCULINO</td>\n",
       "      <td>19.0</td>\n",
       "      <td>2016-01-01 00:00:00</td>\n",
       "    </tr>\n",
       "    <tr>\n",
       "      <th>1</th>\n",
       "      <td>2016-0002</td>\n",
       "      <td>1</td>\n",
       "      <td>2016-01-02</td>\n",
       "      <td>2016</td>\n",
       "      <td>1</td>\n",
       "      <td>2</td>\n",
       "      <td>01:15:00</td>\n",
       "      <td>1</td>\n",
       "      <td>AV GRAL PAZ  Y AV DE LOS CORRALES</td>\n",
       "      <td>GRAL PAZ</td>\n",
       "      <td>PAZ, GRAL. AV.</td>\n",
       "      <td>NaN</td>\n",
       "      <td>DE LOS CORRALES AV.</td>\n",
       "      <td>PAZ, GRAL. AV. y DE LOS CORRALES AV.</td>\n",
       "      <td>9</td>\n",
       "      <td>Point (95832.05571093 95505.41641999)</td>\n",
       "      <td>-58.50877521</td>\n",
       "      <td>-34.66977709</td>\n",
       "      <td>AUTO-PASAJEROS</td>\n",
       "      <td>PASAJEROS</td>\n",
       "      <td>CONDUCTOR</td>\n",
       "      <td>AUTO</td>\n",
       "      <td>MASCULINO</td>\n",
       "      <td>70.0</td>\n",
       "      <td>2016-01-02 00:00:00</td>\n",
       "    </tr>\n",
       "    <tr>\n",
       "      <th>2</th>\n",
       "      <td>2016-0003</td>\n",
       "      <td>1</td>\n",
       "      <td>2016-01-03</td>\n",
       "      <td>2016</td>\n",
       "      <td>1</td>\n",
       "      <td>3</td>\n",
       "      <td>07:00:00</td>\n",
       "      <td>7</td>\n",
       "      <td>AV ENTRE RIOS 2034</td>\n",
       "      <td>AVENIDA</td>\n",
       "      <td>ENTRE RIOS AV.</td>\n",
       "      <td>2034.0</td>\n",
       "      <td>NaN</td>\n",
       "      <td>ENTRE RIOS AV. 2034</td>\n",
       "      <td>1</td>\n",
       "      <td>Point (106684.29090040 99706.57687843)</td>\n",
       "      <td>-58.39040293</td>\n",
       "      <td>-34.63189362</td>\n",
       "      <td>MOTO-AUTO</td>\n",
       "      <td>AUTO</td>\n",
       "      <td>CONDUCTOR</td>\n",
       "      <td>MOTO</td>\n",
       "      <td>MASCULINO</td>\n",
       "      <td>30.0</td>\n",
       "      <td>2016-01-03 00:00:00</td>\n",
       "    </tr>\n",
       "    <tr>\n",
       "      <th>3</th>\n",
       "      <td>2016-0004</td>\n",
       "      <td>1</td>\n",
       "      <td>2016-01-10</td>\n",
       "      <td>2016</td>\n",
       "      <td>1</td>\n",
       "      <td>10</td>\n",
       "      <td>00:00:00</td>\n",
       "      <td>0</td>\n",
       "      <td>AV LARRAZABAL Y GRAL VILLEGAS CONRADO</td>\n",
       "      <td>AVENIDA</td>\n",
       "      <td>LARRAZABAL AV.</td>\n",
       "      <td>NaN</td>\n",
       "      <td>VILLEGAS, CONRADO, GRAL.</td>\n",
       "      <td>LARRAZABAL AV. y VILLEGAS, CONRADO, GRAL.</td>\n",
       "      <td>8</td>\n",
       "      <td>Point (99840.65224780 94269.16534422)</td>\n",
       "      <td>-58.46503904</td>\n",
       "      <td>-34.68092974</td>\n",
       "      <td>MOTO-SD</td>\n",
       "      <td>SD</td>\n",
       "      <td>CONDUCTOR</td>\n",
       "      <td>MOTO</td>\n",
       "      <td>MASCULINO</td>\n",
       "      <td>18.0</td>\n",
       "      <td>SD</td>\n",
       "    </tr>\n",
       "    <tr>\n",
       "      <th>4</th>\n",
       "      <td>2016-0005</td>\n",
       "      <td>1</td>\n",
       "      <td>2016-01-21</td>\n",
       "      <td>2016</td>\n",
       "      <td>1</td>\n",
       "      <td>21</td>\n",
       "      <td>05:20:00</td>\n",
       "      <td>5</td>\n",
       "      <td>AV SAN JUAN Y PRESIDENTE LUIS SAENZ PEÑA</td>\n",
       "      <td>AVENIDA</td>\n",
       "      <td>SAN JUAN AV.</td>\n",
       "      <td>NaN</td>\n",
       "      <td>SAENZ PE?A, LUIS, PRES.</td>\n",
       "      <td>SAN JUAN AV. y SAENZ PEÃ‘A, LUIS, PRES.</td>\n",
       "      <td>1</td>\n",
       "      <td>Point (106980.32827929 100752.16915795)</td>\n",
       "      <td>-58.38718297</td>\n",
       "      <td>-34.62246630</td>\n",
       "      <td>MOTO-PASAJEROS</td>\n",
       "      <td>PASAJEROS</td>\n",
       "      <td>CONDUCTOR</td>\n",
       "      <td>MOTO</td>\n",
       "      <td>MASCULINO</td>\n",
       "      <td>29.0</td>\n",
       "      <td>2016-02-01 00:00:00</td>\n",
       "    </tr>\n",
       "  </tbody>\n",
       "</table>\n",
       "</div>"
      ],
      "text/plain": [
       "          ID  N_VICTIMAS      FECHA  AAAA  MM  DD      HORA HH  \\\n",
       "0  2016-0001           1 2016-01-01  2016   1   1  04:00:00  4   \n",
       "1  2016-0002           1 2016-01-02  2016   1   2  01:15:00  1   \n",
       "2  2016-0003           1 2016-01-03  2016   1   3  07:00:00  7   \n",
       "3  2016-0004           1 2016-01-10  2016   1  10  00:00:00  0   \n",
       "4  2016-0005           1 2016-01-21  2016   1  21  05:20:00  5   \n",
       "\n",
       "                             LUGAR_DEL_HECHO TIPO_DE_CALLE             Calle  \\\n",
       "0  AV PIEDRA BUENA Y AV FERNANDEZ DE LA CRUZ       AVENIDA  PIEDRA BUENA AV.   \n",
       "1          AV GRAL PAZ  Y AV DE LOS CORRALES      GRAL PAZ    PAZ, GRAL. AV.   \n",
       "2                         AV ENTRE RIOS 2034       AVENIDA    ENTRE RIOS AV.   \n",
       "3      AV LARRAZABAL Y GRAL VILLEGAS CONRADO       AVENIDA    LARRAZABAL AV.   \n",
       "4  AV SAN JUAN Y PRESIDENTE LUIS SAENZ PEÑA        AVENIDA      SAN JUAN AV.   \n",
       "\n",
       "   Altura                                Cruce  \\\n",
       "0     NaN  FERNANDEZ DE LA CRUZ, F., GRAL. AV.   \n",
       "1     NaN                  DE LOS CORRALES AV.   \n",
       "2  2034.0                                  NaN   \n",
       "3     NaN             VILLEGAS, CONRADO, GRAL.   \n",
       "4     NaN              SAENZ PE?A, LUIS, PRES.   \n",
       "\n",
       "                                    Dirección Normalizada  COMUNA  \\\n",
       "0  PIEDRA BUENA AV. y FERNANDEZ DE LA CRUZ, F., GRAL. AV.       8   \n",
       "1                    PAZ, GRAL. AV. y DE LOS CORRALES AV.       9   \n",
       "2                                     ENTRE RIOS AV. 2034       1   \n",
       "3               LARRAZABAL AV. y VILLEGAS, CONRADO, GRAL.       8   \n",
       "4                 SAN JUAN AV. y SAENZ PEÃ‘A, LUIS, PRES.       1   \n",
       "\n",
       "                                 XY (CABA)         pos x         pos y  \\\n",
       "0    Point (98896.78238426 93532.43437792)  -58.47533969  -34.68757022   \n",
       "1    Point (95832.05571093 95505.41641999)  -58.50877521  -34.66977709   \n",
       "2   Point (106684.29090040 99706.57687843)  -58.39040293  -34.63189362   \n",
       "3    Point (99840.65224780 94269.16534422)  -58.46503904  -34.68092974   \n",
       "4  Point (106980.32827929 100752.16915795)  -58.38718297  -34.62246630   \n",
       "\n",
       "    PARTICIPANTES    ACUSADO        ROL VICTIMA_victimas       SEXO  EDAD  \\\n",
       "0       MOTO-AUTO       AUTO  CONDUCTOR             MOTO  MASCULINO  19.0   \n",
       "1  AUTO-PASAJEROS  PASAJEROS  CONDUCTOR             AUTO  MASCULINO  70.0   \n",
       "2       MOTO-AUTO       AUTO  CONDUCTOR             MOTO  MASCULINO  30.0   \n",
       "3         MOTO-SD         SD  CONDUCTOR             MOTO  MASCULINO  18.0   \n",
       "4  MOTO-PASAJEROS  PASAJEROS  CONDUCTOR             MOTO  MASCULINO  29.0   \n",
       "\n",
       "   FECHA_FALLECIMIENTO  \n",
       "0  2016-01-01 00:00:00  \n",
       "1  2016-01-02 00:00:00  \n",
       "2  2016-01-03 00:00:00  \n",
       "3                   SD  \n",
       "4  2016-02-01 00:00:00  "
      ]
     },
     "execution_count": 75,
     "metadata": {},
     "output_type": "execute_result"
    }
   ],
   "source": [
    "# Eliminar columnas duplicadas o irrelevantes\n",
    "columns_to_drop = ['ID_hecho', 'FECHA_victimas', 'AAAA_victimas', 'MM_victimas', 'DD_victimas', 'VICTIMA_hechos']\n",
    "merged_data_clean = merged_data.drop(columns=columns_to_drop)\n",
    "\n",
    "# Renombrar columnas para mayor claridad\n",
    "merged_data_clean = merged_data_clean.rename(columns={\n",
    "    'FECHA_hechos': 'FECHA',\n",
    "    'AAAA_hechos': 'AAAA',\n",
    "    'MM_hechos': 'MM',\n",
    "    'DD_hechos': 'DD',\n",
    "})\n",
    "\n",
    "# Mostrar las primeras filas del dataframe resultante\n",
    "merged_data_clean.head()"
   ]
  },
  {
   "cell_type": "code",
   "execution_count": 78,
   "metadata": {},
   "outputs": [
    {
     "name": "stdout",
     "output_type": "stream",
     "text": [
      "<class 'pandas.core.frame.DataFrame'>\n",
      "RangeIndex: 717 entries, 0 to 716\n",
      "Data columns (total 25 columns):\n",
      " #   Column                 Non-Null Count  Dtype         \n",
      "---  ------                 --------------  -----         \n",
      " 0   ID                     717 non-null    object        \n",
      " 1   N_VICTIMAS             717 non-null    int64         \n",
      " 2   FECHA                  717 non-null    datetime64[ns]\n",
      " 3   AAAA                   717 non-null    int64         \n",
      " 4   MM                     717 non-null    int64         \n",
      " 5   DD                     717 non-null    int64         \n",
      " 6   HORA                   717 non-null    object        \n",
      " 7   HH                     717 non-null    object        \n",
      " 8   LUGAR_DEL_HECHO        717 non-null    object        \n",
      " 9   TIPO_DE_CALLE          717 non-null    object        \n",
      " 10  Calle                  716 non-null    object        \n",
      " 11  Altura                 133 non-null    float64       \n",
      " 12  Cruce                  540 non-null    object        \n",
      " 13  Dirección Normalizada  708 non-null    object        \n",
      " 14  COMUNA                 717 non-null    int64         \n",
      " 15  XY (CABA)              717 non-null    object        \n",
      " 16  pos x                  717 non-null    object        \n",
      " 17  pos y                  717 non-null    object        \n",
      " 18  PARTICIPANTES          717 non-null    object        \n",
      " 19  ACUSADO                717 non-null    object        \n",
      " 20  ROL                    717 non-null    object        \n",
      " 21  VICTIMA_victimas       717 non-null    object        \n",
      " 22  SEXO                   717 non-null    object        \n",
      " 23  EDAD                   664 non-null    float64       \n",
      " 24  FECHA_FALLECIMIENTO    717 non-null    object        \n",
      "dtypes: datetime64[ns](1), float64(2), int64(5), object(17)\n",
      "memory usage: 140.2+ KB\n"
     ]
    }
   ],
   "source": [
    "merged_data_clean.info()"
   ]
  },
  {
   "cell_type": "code",
   "execution_count": null,
   "metadata": {},
   "outputs": [],
   "source": [
    "import pandas as pd\n",
    "\n",
    "# Reemplazar valores no válidos en la columna 'HORA' con NaT\n",
    "merged_data_clean['HORA'] = pd.to_datetime(merged_data_clean['HORA'], format='%H:%M:%S', errors='coerce')\n",
    "\n",
    "# Convertir la columna 'HORA' a tipo int (hora del día), dejando NaT para valores no válidos\n",
    "merged_data_clean['HORA'] = merged_data_clean['HORA'].dt.hour\n",
    "\n",
    "# Convertir la columna 'FECHA_FALLECIMIENTO' a tipo datetime\n",
    "merged_data_clean['FECHA_FALLECIMIENTO'] = pd.to_datetime(merged_data_clean['FECHA_FALLECIMIENTO'], errors='coerce')\n",
    "\n",
    "# Rellenar valores faltantes en la columna 'Altura' con un marcador específico (por ejemplo, -1)\n",
    "merged_data_clean['Altura'] = merged_data_clean['Altura'].fillna(-1)\n",
    "\n",
    "# Rellenar valores faltantes en la columna 'Calle' con 'No Especificado'\n",
    "merged_data_clean['Calle'] = merged_data_clean['Calle'].fillna('No Especificado')\n",
    "\n",
    "# Rellenar valores faltantes en la columna 'Cruce' con 'No Especificado'\n",
    "merged_data_clean['Cruce'] = merged_data_clean['Cruce'].fillna('No Especificado')\n",
    "\n",
    "# Rellenar valores faltantes en la columna 'Dirección Normalizada' con 'No Especificado'\n",
    "merged_data_clean['Dirección Normalizada'] = merged_data_clean['Dirección Normalizada'].fillna('No Especificado')\n",
    "\n",
    "# Rellenar valores faltantes en la columna 'EDAD' con la media o un marcador específico (por ejemplo, -1)\n",
    "merged_data_clean['EDAD'] = merged_data_clean['EDAD'].fillna(-1)"
   ]
  },
  {
   "cell_type": "code",
   "execution_count": 81,
   "metadata": {},
   "outputs": [
    {
     "name": "stdout",
     "output_type": "stream",
     "text": [
      "<class 'pandas.core.frame.DataFrame'>\n",
      "RangeIndex: 717 entries, 0 to 716\n",
      "Data columns (total 25 columns):\n",
      " #   Column                 Non-Null Count  Dtype         \n",
      "---  ------                 --------------  -----         \n",
      " 0   ID                     717 non-null    object        \n",
      " 1   N_VICTIMAS             717 non-null    int64         \n",
      " 2   FECHA                  717 non-null    datetime64[ns]\n",
      " 3   AAAA                   717 non-null    int64         \n",
      " 4   MM                     717 non-null    int64         \n",
      " 5   DD                     717 non-null    int64         \n",
      " 6   HORA                   716 non-null    float64       \n",
      " 7   HH                     717 non-null    object        \n",
      " 8   LUGAR_DEL_HECHO        717 non-null    object        \n",
      " 9   TIPO_DE_CALLE          717 non-null    object        \n",
      " 10  Calle                  717 non-null    object        \n",
      " 11  Altura                 717 non-null    float64       \n",
      " 12  Cruce                  717 non-null    object        \n",
      " 13  Dirección Normalizada  717 non-null    object        \n",
      " 14  COMUNA                 717 non-null    int64         \n",
      " 15  XY (CABA)              717 non-null    object        \n",
      " 16  pos x                  717 non-null    object        \n",
      " 17  pos y                  717 non-null    object        \n",
      " 18  PARTICIPANTES          717 non-null    object        \n",
      " 19  ACUSADO                717 non-null    object        \n",
      " 20  ROL                    717 non-null    object        \n",
      " 21  VICTIMA_victimas       717 non-null    object        \n",
      " 22  SEXO                   717 non-null    object        \n",
      " 23  EDAD                   717 non-null    float64       \n",
      " 24  FECHA_FALLECIMIENTO    649 non-null    datetime64[ns]\n",
      "dtypes: datetime64[ns](2), float64(3), int64(5), object(15)\n",
      "memory usage: 140.2+ KB\n"
     ]
    }
   ],
   "source": [
    "# Verificar el dataframe limpio\n",
    "merged_data_clean.info()"
   ]
  },
  {
   "cell_type": "markdown",
   "metadata": {},
   "source": [
    "#### Exportar CSV"
   ]
  },
  {
   "cell_type": "code",
   "execution_count": 87,
   "metadata": {},
   "outputs": [],
   "source": [
    "# Exportar a CSV\n",
    "merged_data_clean.to_csv('export/merged_homicidios_data.csv', index=False)"
   ]
  }
 ],
 "metadata": {
  "kernelspec": {
   "display_name": "Python 3",
   "language": "python",
   "name": "python3"
  },
  "language_info": {
   "codemirror_mode": {
    "name": "ipython",
    "version": 3
   },
   "file_extension": ".py",
   "mimetype": "text/x-python",
   "name": "python",
   "nbconvert_exporter": "python",
   "pygments_lexer": "ipython3",
   "version": "3.10.11"
  }
 },
 "nbformat": 4,
 "nbformat_minor": 2
}
